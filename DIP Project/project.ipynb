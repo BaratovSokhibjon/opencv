{
 "cells": [
  {
   "cell_type": "code",
   "execution_count": null,
   "metadata": {},
   "outputs": [
    {
     "name": "stdout",
     "output_type": "stream",
     "text": [
      "Select a ROI and then press SPACE or ENTER button!\n",
      "Cancel the selection process by pressing c button!\n"
     ]
    }
   ],
   "source": [
    "import cv2\n",
    "\n",
    "def drawBoundingBox(img, bbox):\n",
    "    # Extract bounding box coordinates\n",
    "    x, y, w, h = int(bbox[0]), int(bbox[1]), int(bbox[2]), int(bbox[3])\n",
    "    # Draw a rectangle around the object\n",
    "    cv2.rectangle(img, (x, y), (x + w, y + h), (0, 255, 0), 2)\n",
    "    # Add \"Tracking\" label near the bounding box\n",
    "    cv2.putText(img, \"Tracking\", (x, y - 15), cv2.FONT_HERSHEY_SIMPLEX, 0.6, (0, 255, 0), 2, cv2.LINE_AA)\n",
    "\n",
    "cap = cv2.VideoCapture(0)\n",
    "\n",
    "# tracker = cv2.TrackerKCF_create()    # loses tracking when object is out of frame and when the object is moving fast\n",
    "# tracker = cv2.legacy.TrackerBoosting_create() # slower than mosse but more accurate\n",
    "# tracker = cv2.legacy.TrackerMOSSE_create() # supposed to be faster than CSRT but less accurate\n",
    "tracker = cv2.TrackerCSRT_create()    # Better fps when tracking moving objects than boosting\n",
    "# tracker = cv2.legacy.TrackerMedianFlow_create()  # the bounding box will be larger when the object is moving fast\n",
    "# tracker = cv2.legacy.TrackerTLD_create() # not accurate at all\n",
    "\n",
    "success, img = cap.read()\n",
    "\n",
    "bbox = cv2.selectROI(\"Select Region of Interest\", img, False)\n",
    "tracker.init(img, bbox)\n",
    "\n",
    "while True:\n",
    "    timer = cv2.getTickCount()  \n",
    "    success, img = cap.read()  \n",
    "    success, bbox = tracker.update(img)  \n",
    "\n",
    "\n",
    "    if success:\n",
    "        drawBoundingBox(img, bbox)\n",
    "    else:\n",
    "        \n",
    "        cv2.putText(img, \"Lost\", (50, 50), cv2.FONT_HERSHEY_SIMPLEX, 1, (0, 0, 255), 3, cv2.LINE_AA)\n",
    "\n",
    "    # Calculate and display FPS\n",
    "    fps = cv2.getTickFrequency() / (cv2.getTickCount() - timer)\n",
    "    cv2.putText(img, f\"FPS: {int(fps)}\", (10, 30), cv2.FONT_HERSHEY_SIMPLEX, 0.8, (255, 255, 255), 2, cv2.LINE_AA)\n",
    "\n",
    "    \n",
    "    cv2.imshow(\"Track using different trackers\", img)\n",
    "\n",
    "    \n",
    "    if cv2.waitKey(1) & 0xFF == ord('q'):\n",
    "        break\n",
    "\n",
    "cap.release()\n",
    "cv2.destroyAllWindows()\n"
   ]
  },
  {
   "cell_type": "code",
   "execution_count": null,
   "metadata": {},
   "outputs": [],
   "source": []
  },
  {
   "cell_type": "code",
   "execution_count": null,
   "metadata": {},
   "outputs": [],
   "source": []
  }
 ],
 "metadata": {
  "kernelspec": {
   "display_name": "myenv",
   "language": "python",
   "name": "python3"
  },
  "language_info": {
   "codemirror_mode": {
    "name": "ipython",
    "version": 3
   },
   "file_extension": ".py",
   "mimetype": "text/x-python",
   "name": "python",
   "nbconvert_exporter": "python",
   "pygments_lexer": "ipython3",
   "version": "3.10.12"
  }
 },
 "nbformat": 4,
 "nbformat_minor": 2
}
