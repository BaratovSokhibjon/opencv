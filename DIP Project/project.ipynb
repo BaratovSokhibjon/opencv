{
 "cells": [
  {
   "cell_type": "code",
   "execution_count": 8,
   "metadata": {},
   "outputs": [
    {
     "name": "stdout",
     "output_type": "stream",
     "text": [
      "Requirement already satisfied: numpy in c:\\users\\niluf\\desktop\\inha\\opencv\\myenv\\lib\\site-packages (2.1.3)\n",
      "Requirement already satisfied: matplotlib in c:\\users\\niluf\\desktop\\inha\\opencv\\myenv\\lib\\site-packages (3.9.3)\n",
      "Requirement already satisfied: contourpy>=1.0.1 in c:\\users\\niluf\\desktop\\inha\\opencv\\myenv\\lib\\site-packages (from matplotlib) (1.3.1)\n",
      "Requirement already satisfied: cycler>=0.10 in c:\\users\\niluf\\desktop\\inha\\opencv\\myenv\\lib\\site-packages (from matplotlib) (0.12.1)\n",
      "Requirement already satisfied: fonttools>=4.22.0 in c:\\users\\niluf\\desktop\\inha\\opencv\\myenv\\lib\\site-packages (from matplotlib) (4.55.0)\n",
      "Requirement already satisfied: kiwisolver>=1.3.1 in c:\\users\\niluf\\desktop\\inha\\opencv\\myenv\\lib\\site-packages (from matplotlib) (1.4.7)\n",
      "Requirement already satisfied: numpy>=1.23 in c:\\users\\niluf\\desktop\\inha\\opencv\\myenv\\lib\\site-packages (from matplotlib) (2.1.3)\n",
      "Requirement already satisfied: packaging>=20.0 in c:\\users\\niluf\\desktop\\inha\\opencv\\myenv\\lib\\site-packages (from matplotlib) (24.2)\n",
      "Requirement already satisfied: pillow>=8 in c:\\users\\niluf\\desktop\\inha\\opencv\\myenv\\lib\\site-packages (from matplotlib) (11.0.0)\n",
      "Requirement already satisfied: pyparsing>=2.3.1 in c:\\users\\niluf\\desktop\\inha\\opencv\\myenv\\lib\\site-packages (from matplotlib) (3.2.0)\n",
      "Requirement already satisfied: python-dateutil>=2.7 in c:\\users\\niluf\\desktop\\inha\\opencv\\myenv\\lib\\site-packages (from matplotlib) (2.9.0.post0)\n",
      "Requirement already satisfied: six>=1.5 in c:\\users\\niluf\\desktop\\inha\\opencv\\myenv\\lib\\site-packages (from python-dateutil>=2.7->matplotlib) (1.16.0)\n",
      "Requirement already satisfied: opencv-python in c:\\users\\niluf\\desktop\\inha\\opencv\\myenv\\lib\\site-packages (4.10.0.84)\n",
      "Requirement already satisfied: numpy>=1.21.2 in c:\\users\\niluf\\desktop\\inha\\opencv\\myenv\\lib\\site-packages (from opencv-python) (2.1.3)\n",
      "Collecting opencv-contrib-python\n",
      "  Downloading opencv_contrib_python-4.10.0.84-cp37-abi3-win_amd64.whl.metadata (20 kB)\n",
      "Requirement already satisfied: numpy>=1.21.2 in c:\\users\\niluf\\desktop\\inha\\opencv\\myenv\\lib\\site-packages (from opencv-contrib-python) (2.1.3)\n",
      "Downloading opencv_contrib_python-4.10.0.84-cp37-abi3-win_amd64.whl (45.5 MB)\n",
      "   ---------------------------------------- 0.0/45.5 MB ? eta -:--:--\n",
      "   ---- ----------------------------------- 5.5/45.5 MB 25.8 MB/s eta 0:00:02\n",
      "   --------------- ------------------------ 17.3/45.5 MB 40.4 MB/s eta 0:00:01\n",
      "   ----------------------- ---------------- 26.5/45.5 MB 43.0 MB/s eta 0:00:01\n",
      "   -------------------------- ------------- 30.4/45.5 MB 42.0 MB/s eta 0:00:01\n",
      "   ---------------------------- ----------- 32.5/45.5 MB 34.4 MB/s eta 0:00:01\n",
      "   ---------------------------- ----------- 32.5/45.5 MB 34.4 MB/s eta 0:00:01\n",
      "   -------------------------------------- - 44.0/45.5 MB 30.1 MB/s eta 0:00:01\n",
      "   -------------------------------------- - 44.0/45.5 MB 30.1 MB/s eta 0:00:01\n",
      "   -------------------------------------- - 44.0/45.5 MB 30.1 MB/s eta 0:00:01\n",
      "   ---------------------------------------  44.6/45.5 MB 21.2 MB/s eta 0:00:01\n",
      "   ---------------------------------------  45.4/45.5 MB 21.2 MB/s eta 0:00:01\n",
      "   ---------------------------------------- 45.5/45.5 MB 19.4 MB/s eta 0:00:00\n",
      "Installing collected packages: opencv-contrib-python\n",
      "Successfully installed opencv-contrib-python-4.10.0.84\n"
     ]
    }
   ],
   "source": [
    "!pip install numpy\n",
    "!pip install matplotlib\n",
    "!pip install opencv-python\n",
    "!pip install opencv-contrib-python"
   ]
  },
  {
   "cell_type": "code",
   "execution_count": 19,
   "metadata": {},
   "outputs": [],
   "source": [
    "import cv2\n",
    "\n",
    "def drawBoundingBox(img, bbox):\n",
    "    # Extract bounding box coordinates\n",
    "    x, y, w, h = int(bbox[0]),  int(bbox[1]), int(bbox[2]), int(bbox[3])\n",
    "    # Draw a rectangle around the object\n",
    "    cv2.rectangle(img, (x, y), (x + w, y + h), (0, 255, 0), 2)\n",
    "    # Add \"Tracking\" label near the bounding box\n",
    "    cv2.putText(img, \"Tracking\", (x, y - 15), cv2.FONT_HERSHEY_SIMPLEX, 0.6, (0, 255, 0), 2, cv2.LINE_AA)\n",
    "\n",
    "# save the result to a video file\n",
    "fourcc = cv2.VideoWriter_fourcc(*'XVID')\n",
    "out = cv2.VideoWriter('output.avi', fourcc, 20.0, (int(cap.get(3)), int(cap.get(4))))\n",
    "\n",
    "# cap = cv2.VideoCapture(0)\n",
    "cap = cv2.VideoCapture(\"C:\\\\Users\\\\niluf\\\\Desktop\\\\Inha\\\\opencv\\\\DIP Project\\\\assets\\\\small_instance.mp4\")\n",
    "\n",
    "# tracker = cv2.TrackerKCF_create()    # loses tracking when object is out of frame and when the object is moving fast\n",
    "# tracker = cv2.legacy.TrackerBoosting_create() # slower than mosse but more accurate\n",
    "# tracker = cv2.legacy.TrackerMOSSE_create() # supposed to be faster than CSRT but less accurate\n",
    "tracker = cv2.legacy.TrackerCSRT_create()    # Better fps when tracking moving objects than boosting\n",
    "# tracker = cv2.legacy.TrackerMedianFlow_create()  # the bounding box will be larger when the object is moving fast\n",
    "# tracker = cv2.legacy.TrackerTLD_create() # not accurate at all\n",
    "\n",
    "success, img = cap.read()\n",
    "\n",
    "bbox = cv2.selectROI(\"Select Region of Interest\", img, False)\n",
    "tracker.init(img, bbox)\n",
    "\n",
    "while True:\n",
    "    timer = cv2.getTickCount()  \n",
    "    success, img = cap.read()\n",
    "    if not success or img is None:\n",
    "        print(\"Error: Unable to read a frame from the video source.\")\n",
    "        break\n",
    "  \n",
    "    success, bbox = tracker.update(img)  \n",
    "\n",
    "    if success:\n",
    "        drawBoundingBox(img, bbox)\n",
    "    else:\n",
    "        cv2.putText(img, \"Lost\", (50, 50), cv2.FONT_HERSHEY_SIMPLEX, 1, (0, 0, 255), 3, cv2.LINE_AA)\n",
    "\n",
    "    # Calculate and display FPS\n",
    "    fps = cv2.getTickFrequency() / (cv2.getTickCount() - timer)\n",
    "    cv2.putText(img, f\"FPS: {int(fps)}\", (10, 30), cv2.FONT_HERSHEY_SIMPLEX, 0.8, (255, 255, 255), 2, cv2.LINE_AA)\n",
    "\n",
    "    # Write the frame to the output video file\n",
    "    out.write(img)\n",
    "    \n",
    "    cv2.imshow(\"Track using different trackers\", img)\n",
    "\n",
    "    if cv2.waitKey(1) & 0xFF == ord('q'):\n",
    "        break    \n",
    "    elif cap.get(cv2.CAP_PROP_POS_FRAMES) == cap.get(cv2.CAP_PROP_FRAME_COUNT):\n",
    "        break\n",
    "\n",
    "cap.release()\n",
    "out.release()\n",
    "cv2.destroyAllWindows()"
   ]
  },
  {
   "cell_type": "code",
   "execution_count": null,
   "metadata": {},
   "outputs": [],
   "source": []
  },
  {
   "cell_type": "code",
   "execution_count": null,
   "metadata": {},
   "outputs": [],
   "source": []
  }
 ],
 "metadata": {
  "kernelspec": {
   "display_name": "myenv",
   "language": "python",
   "name": "python3"
  },
  "language_info": {
   "codemirror_mode": {
    "name": "ipython",
    "version": 3
   },
   "file_extension": ".py",
   "mimetype": "text/x-python",
   "name": "python",
   "nbconvert_exporter": "python",
   "pygments_lexer": "ipython3",
   "version": "3.11.9"
  }
 },
 "nbformat": 4,
 "nbformat_minor": 2
}
